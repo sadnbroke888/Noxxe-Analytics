{
 "cells": [
  {
   "cell_type": "markdown",
   "metadata": {},
   "source": [
    "# ExxonMobil"
   ]
  },
  {
   "cell_type": "code",
   "execution_count": 1,
   "metadata": {},
   "outputs": [],
   "source": [
    "import pandas as pd\n",
    "import matplotlib.pyplot as plt"
   ]
  },
  {
   "cell_type": "markdown",
   "metadata": {},
   "source": [
    "## Read Data"
   ]
  },
  {
   "cell_type": "code",
   "execution_count": 2,
   "metadata": {},
   "outputs": [],
   "source": [
    "MRW_pointTransaction_df = pd.read_csv(\"data/MRW_pointTransaction.csv\")\n",
    "MRW_garageProfile_df = pd.read_csv(\"data/MRW_garageProfile.csv\")\n",
    "MRW_productSKU_df = pd.read_csv(\"data/MRW_productSKU.csv\")\n",
    "MER_pointTransaction_df = pd.read_csv(\"data/MER_pointTransaction.csv\")\n",
    "MER_pointPerLitre_df = pd.read_csv(\"data/MER_pointPerLitre.csv\")"
   ]
  },
  {
   "cell_type": "markdown",
   "metadata": {},
   "source": [
    "## Data Exploration"
   ]
  },
  {
   "cell_type": "markdown",
   "metadata": {},
   "source": [
    "### MRW Point Transaction"
   ]
  },
  {
   "cell_type": "code",
   "execution_count": 23,
   "metadata": {},
   "outputs": [
    {
     "data": {
      "text/html": [
       "<div>\n",
       "<style scoped>\n",
       "    .dataframe tbody tr th:only-of-type {\n",
       "        vertical-align: middle;\n",
       "    }\n",
       "\n",
       "    .dataframe tbody tr th {\n",
       "        vertical-align: top;\n",
       "    }\n",
       "\n",
       "    .dataframe thead th {\n",
       "        text-align: right;\n",
       "    }\n",
       "</style>\n",
       "<table border=\"1\" class=\"dataframe\">\n",
       "  <thead>\n",
       "    <tr style=\"text-align: right;\">\n",
       "      <th></th>\n",
       "      <th>Distributor</th>\n",
       "      <th>ProductName</th>\n",
       "      <th>ProductSKU</th>\n",
       "      <th>ScanDate</th>\n",
       "      <th>UserId</th>\n",
       "    </tr>\n",
       "  </thead>\n",
       "  <tbody>\n",
       "    <tr>\n",
       "      <th>0</th>\n",
       "      <td>B</td>\n",
       "      <td>Mobil Super AIO - Charcoal</td>\n",
       "      <td>Mobil Super AIO - 7L</td>\n",
       "      <td>29/11/2023</td>\n",
       "      <td>EXL_1692444744991</td>\n",
       "    </tr>\n",
       "    <tr>\n",
       "      <th>1</th>\n",
       "      <td>B</td>\n",
       "      <td>Mobil Super AIO - Charcoal</td>\n",
       "      <td>Mobil Super AIO - 7L</td>\n",
       "      <td>29/11/2023</td>\n",
       "      <td>EXL_1692444744991</td>\n",
       "    </tr>\n",
       "    <tr>\n",
       "      <th>2</th>\n",
       "      <td>B</td>\n",
       "      <td>Mobil Super AIO - Charcoal</td>\n",
       "      <td>Mobil Super AIO - 7L</td>\n",
       "      <td>29/11/2023</td>\n",
       "      <td>EXL_1692444744991</td>\n",
       "    </tr>\n",
       "    <tr>\n",
       "      <th>3</th>\n",
       "      <td>B</td>\n",
       "      <td>Mobil Super AIO - Charcoal</td>\n",
       "      <td>Mobil Super AIO - 7L</td>\n",
       "      <td>29/11/2023</td>\n",
       "      <td>EXL_1692444744991</td>\n",
       "    </tr>\n",
       "    <tr>\n",
       "      <th>4</th>\n",
       "      <td>B</td>\n",
       "      <td>Mobil Super AIO - Charcoal</td>\n",
       "      <td>Mobil Super AIO - 7L</td>\n",
       "      <td>29/11/2023</td>\n",
       "      <td>EXL_1692444744991</td>\n",
       "    </tr>\n",
       "  </tbody>\n",
       "</table>\n",
       "</div>"
      ],
      "text/plain": [
       "  Distributor                 ProductName            ProductSKU    ScanDate  \\\n",
       "0           B  Mobil Super AIO - Charcoal  Mobil Super AIO - 7L  29/11/2023   \n",
       "1           B  Mobil Super AIO - Charcoal  Mobil Super AIO - 7L  29/11/2023   \n",
       "2           B  Mobil Super AIO - Charcoal  Mobil Super AIO - 7L  29/11/2023   \n",
       "3           B  Mobil Super AIO - Charcoal  Mobil Super AIO - 7L  29/11/2023   \n",
       "4           B  Mobil Super AIO - Charcoal  Mobil Super AIO - 7L  29/11/2023   \n",
       "\n",
       "              UserId  \n",
       "0  EXL_1692444744991  \n",
       "1  EXL_1692444744991  \n",
       "2  EXL_1692444744991  \n",
       "3  EXL_1692444744991  \n",
       "4  EXL_1692444744991  "
      ]
     },
     "execution_count": 23,
     "metadata": {},
     "output_type": "execute_result"
    }
   ],
   "source": [
    "MRW_pointTransaction_df.head()"
   ]
  },
  {
   "cell_type": "code",
   "execution_count": 4,
   "metadata": {},
   "outputs": [
    {
     "data": {
      "text/html": [
       "<div>\n",
       "<style scoped>\n",
       "    .dataframe tbody tr th:only-of-type {\n",
       "        vertical-align: middle;\n",
       "    }\n",
       "\n",
       "    .dataframe tbody tr th {\n",
       "        vertical-align: top;\n",
       "    }\n",
       "\n",
       "    .dataframe thead th {\n",
       "        text-align: right;\n",
       "    }\n",
       "</style>\n",
       "<table border=\"1\" class=\"dataframe\">\n",
       "  <thead>\n",
       "    <tr style=\"text-align: right;\">\n",
       "      <th></th>\n",
       "      <th>Distributor</th>\n",
       "      <th>ProductName</th>\n",
       "      <th>ProductSKU</th>\n",
       "      <th>ScanDate</th>\n",
       "      <th>UserId</th>\n",
       "    </tr>\n",
       "  </thead>\n",
       "  <tbody>\n",
       "    <tr>\n",
       "      <th>count</th>\n",
       "      <td>215656</td>\n",
       "      <td>215656</td>\n",
       "      <td>215656</td>\n",
       "      <td>215656</td>\n",
       "      <td>215656</td>\n",
       "    </tr>\n",
       "    <tr>\n",
       "      <th>unique</th>\n",
       "      <td>4</td>\n",
       "      <td>9</td>\n",
       "      <td>10</td>\n",
       "      <td>363</td>\n",
       "      <td>1428</td>\n",
       "    </tr>\n",
       "    <tr>\n",
       "      <th>top</th>\n",
       "      <td>A</td>\n",
       "      <td>Mobil Super FF</td>\n",
       "      <td>Mobil Super FF 4L - 7L</td>\n",
       "      <td>19/12/2023</td>\n",
       "      <td>EXL_1616574618013</td>\n",
       "    </tr>\n",
       "    <tr>\n",
       "      <th>freq</th>\n",
       "      <td>94034</td>\n",
       "      <td>137394</td>\n",
       "      <td>137394</td>\n",
       "      <td>2220</td>\n",
       "      <td>2519</td>\n",
       "    </tr>\n",
       "  </tbody>\n",
       "</table>\n",
       "</div>"
      ],
      "text/plain": [
       "       Distributor     ProductName              ProductSKU    ScanDate  \\\n",
       "count       215656          215656                  215656      215656   \n",
       "unique           4               9                      10         363   \n",
       "top              A  Mobil Super FF  Mobil Super FF 4L - 7L  19/12/2023   \n",
       "freq         94034          137394                  137394        2220   \n",
       "\n",
       "                   UserId  \n",
       "count              215656  \n",
       "unique               1428  \n",
       "top     EXL_1616574618013  \n",
       "freq                 2519  "
      ]
     },
     "execution_count": 4,
     "metadata": {},
     "output_type": "execute_result"
    }
   ],
   "source": [
    "MRW_pointTransaction_df.describe()"
   ]
  },
  {
   "cell_type": "code",
   "execution_count": 5,
   "metadata": {},
   "outputs": [
    {
     "name": "stdout",
     "output_type": "stream",
     "text": [
      "<class 'pandas.core.frame.DataFrame'>\n",
      "RangeIndex: 215656 entries, 0 to 215655\n",
      "Data columns (total 5 columns):\n",
      " #   Column       Non-Null Count   Dtype \n",
      "---  ------       --------------   ----- \n",
      " 0   Distributor  215656 non-null  object\n",
      " 1   ProductName  215656 non-null  object\n",
      " 2   ProductSKU   215656 non-null  object\n",
      " 3   ScanDate     215656 non-null  object\n",
      " 4   UserId       215656 non-null  object\n",
      "dtypes: object(5)\n",
      "memory usage: 8.2+ MB\n"
     ]
    }
   ],
   "source": [
    "MRW_pointTransaction_df.info()"
   ]
  },
  {
   "cell_type": "code",
   "execution_count": 6,
   "metadata": {},
   "outputs": [
    {
     "data": {
      "text/plain": [
       "array(['Mobil Super AIO - Charcoal', 'Mobil Super FF',\n",
       "       'Mobil Delvac Modern', 'Mobil Super AIO', 'Mobil Delvac Legend',\n",
       "       'Mobil 1 Gold', 'Silver Large', 'Blue Large', 'Gold Large'],\n",
       "      dtype=object)"
      ]
     },
     "execution_count": 6,
     "metadata": {},
     "output_type": "execute_result"
    }
   ],
   "source": [
    "MRW_pointTransaction_df[\"ProductName\"].unique()"
   ]
  },
  {
   "cell_type": "markdown",
   "metadata": {},
   "source": [
    "### MRW Garage Profile"
   ]
  },
  {
   "cell_type": "code",
   "execution_count": 7,
   "metadata": {},
   "outputs": [
    {
     "data": {
      "text/html": [
       "<div>\n",
       "<style scoped>\n",
       "    .dataframe tbody tr th:only-of-type {\n",
       "        vertical-align: middle;\n",
       "    }\n",
       "\n",
       "    .dataframe tbody tr th {\n",
       "        vertical-align: top;\n",
       "    }\n",
       "\n",
       "    .dataframe thead th {\n",
       "        text-align: right;\n",
       "    }\n",
       "</style>\n",
       "<table border=\"1\" class=\"dataframe\">\n",
       "  <thead>\n",
       "    <tr style=\"text-align: right;\">\n",
       "      <th></th>\n",
       "      <th>OwnerId</th>\n",
       "      <th>Postcode</th>\n",
       "      <th>Province</th>\n",
       "      <th>District</th>\n",
       "      <th>Distributor</th>\n",
       "    </tr>\n",
       "  </thead>\n",
       "  <tbody>\n",
       "    <tr>\n",
       "      <th>0</th>\n",
       "      <td>EXL_1692444744991</td>\n",
       "      <td>72000.0</td>\n",
       "      <td>สุพรรณบุรี</td>\n",
       "      <td>เขตศรีประจันต์</td>\n",
       "      <td>B</td>\n",
       "    </tr>\n",
       "    <tr>\n",
       "      <th>1</th>\n",
       "      <td>EXL_1651745414431</td>\n",
       "      <td>57120.0</td>\n",
       "      <td>เชียงราย</td>\n",
       "      <td>เขตพาน</td>\n",
       "      <td>C</td>\n",
       "    </tr>\n",
       "    <tr>\n",
       "      <th>2</th>\n",
       "      <td>EXL_1574261647294</td>\n",
       "      <td>10530.0</td>\n",
       "      <td>กรุงเทพมหานคร</td>\n",
       "      <td>เขตหนองจอก</td>\n",
       "      <td>A</td>\n",
       "    </tr>\n",
       "    <tr>\n",
       "      <th>3</th>\n",
       "      <td>EXL_1573728830730</td>\n",
       "      <td>10270.0</td>\n",
       "      <td>สมุทรปราการ</td>\n",
       "      <td>เขตเมืองสมุทรปราการ</td>\n",
       "      <td>A</td>\n",
       "    </tr>\n",
       "    <tr>\n",
       "      <th>4</th>\n",
       "      <td>EXL_1594802722891</td>\n",
       "      <td>30000.0</td>\n",
       "      <td>นครราชสีมา</td>\n",
       "      <td>เขตเมืองนครราชสีมา</td>\n",
       "      <td>A</td>\n",
       "    </tr>\n",
       "  </tbody>\n",
       "</table>\n",
       "</div>"
      ],
      "text/plain": [
       "             OwnerId  Postcode       Province            District  Distributor\n",
       "0  EXL_1692444744991   72000.0     สุพรรณบุรี       เขตศรีประจันต์           B\n",
       "1  EXL_1651745414431   57120.0       เชียงราย               เขตพาน           C\n",
       "2  EXL_1574261647294   10530.0  กรุงเทพมหานคร           เขตหนองจอก           A\n",
       "3  EXL_1573728830730   10270.0    สมุทรปราการ  เขตเมืองสมุทรปราการ           A\n",
       "4  EXL_1594802722891   30000.0     นครราชสีมา   เขตเมืองนครราชสีมา           A"
      ]
     },
     "execution_count": 7,
     "metadata": {},
     "output_type": "execute_result"
    }
   ],
   "source": [
    "MRW_garageProfile_df.head()"
   ]
  },
  {
   "cell_type": "code",
   "execution_count": 8,
   "metadata": {},
   "outputs": [
    {
     "data": {
      "text/html": [
       "<div>\n",
       "<style scoped>\n",
       "    .dataframe tbody tr th:only-of-type {\n",
       "        vertical-align: middle;\n",
       "    }\n",
       "\n",
       "    .dataframe tbody tr th {\n",
       "        vertical-align: top;\n",
       "    }\n",
       "\n",
       "    .dataframe thead th {\n",
       "        text-align: right;\n",
       "    }\n",
       "</style>\n",
       "<table border=\"1\" class=\"dataframe\">\n",
       "  <thead>\n",
       "    <tr style=\"text-align: right;\">\n",
       "      <th></th>\n",
       "      <th>Postcode</th>\n",
       "    </tr>\n",
       "  </thead>\n",
       "  <tbody>\n",
       "    <tr>\n",
       "      <th>count</th>\n",
       "      <td>3933.000000</td>\n",
       "    </tr>\n",
       "    <tr>\n",
       "      <th>mean</th>\n",
       "      <td>38096.809052</td>\n",
       "    </tr>\n",
       "    <tr>\n",
       "      <th>std</th>\n",
       "      <td>25951.830832</td>\n",
       "    </tr>\n",
       "    <tr>\n",
       "      <th>min</th>\n",
       "      <td>10100.000000</td>\n",
       "    </tr>\n",
       "    <tr>\n",
       "      <th>25%</th>\n",
       "      <td>11150.000000</td>\n",
       "    </tr>\n",
       "    <tr>\n",
       "      <th>50%</th>\n",
       "      <td>30330.000000</td>\n",
       "    </tr>\n",
       "    <tr>\n",
       "      <th>75%</th>\n",
       "      <td>60000.000000</td>\n",
       "    </tr>\n",
       "    <tr>\n",
       "      <th>max</th>\n",
       "      <td>96140.000000</td>\n",
       "    </tr>\n",
       "  </tbody>\n",
       "</table>\n",
       "</div>"
      ],
      "text/plain": [
       "           Postcode\n",
       "count   3933.000000\n",
       "mean   38096.809052\n",
       "std    25951.830832\n",
       "min    10100.000000\n",
       "25%    11150.000000\n",
       "50%    30330.000000\n",
       "75%    60000.000000\n",
       "max    96140.000000"
      ]
     },
     "execution_count": 8,
     "metadata": {},
     "output_type": "execute_result"
    }
   ],
   "source": [
    "MRW_garageProfile_df.describe()"
   ]
  },
  {
   "cell_type": "code",
   "execution_count": 44,
   "metadata": {},
   "outputs": [
    {
     "name": "stdout",
     "output_type": "stream",
     "text": [
      "<class 'pandas.core.frame.DataFrame'>\n",
      "RangeIndex: 4006 entries, 0 to 4005\n",
      "Data columns (total 5 columns):\n",
      " #   Column       Non-Null Count  Dtype  \n",
      "---  ------       --------------  -----  \n",
      " 0   OwnerId      4006 non-null   object \n",
      " 1   Postcode     3933 non-null   float64\n",
      " 2   Province     4006 non-null   object \n",
      " 3   District     4006 non-null   object \n",
      " 4   Distributor  4006 non-null   object \n",
      "dtypes: float64(1), object(4)\n",
      "memory usage: 156.6+ KB\n"
     ]
    }
   ],
   "source": [
    "MRW_garageProfile_df.info()"
   ]
  },
  {
   "cell_type": "code",
   "execution_count": 57,
   "metadata": {},
   "outputs": [
    {
     "data": {
      "text/plain": [
       "array(['สุพรรณบุรี', 'เชียงราย', 'กรุงเทพมหานคร', 'สมุทรปราการ',\n",
       "       'นครราชสีมา', 'พิษณุโลก', 'ระยอง', 'ชลบุรี', 'ปทุมธานี',\n",
       "       'เชียงใหม่', 'ขอนแก่น', 'ภูเก็ต', 'สระบุรี', 'สมุทรสาคร',\n",
       "       'นนทบุรี', 'สุราษฎร์ธานี', 'พัทลุง', 'สมุทรสงคราม', 'กำแพงเพชร',\n",
       "       'นครสวรรค์', 'อุตรดิตถ์', 'ตราด', 'ชัยนาท', 'นครปฐม', 'ราชบุรี',\n",
       "       'สระแก้ว', 'นครศรีธรรมราช', 'พระนครศรีอยุธยา', 'ศรีสะเกษ',\n",
       "       'ฉะเชิงเทรา', 'อุบลราชธานี', 'อุดรธานี', 'สุโขทัย', 'น่าน',\n",
       "       'เพชรบูรณ์', 'สิงห์บุรี', 'เพชรบุรี', 'พังงา', 'พิจิตร',\n",
       "       'จันทบุรี', 'ประจวบคีรีขันธ์', 'พะเยา', 'กระบี่', 'บึงกาฬ',\n",
       "       'ลำปาง', 'ตรัง', 'สงขลา', 'ลำพูน', 'แพร่', 'บุรีรัมย์', 'เลย',\n",
       "       'ยโสธร', 'ลพบุรี', 'ปราจีนบุรี', 'อำนาจเจริญ', 'สุรินทร์',\n",
       "       'สกลนคร', 'ชุมพร', 'ร้อยเอ็ด', 'ปัตตานี', 'นครพนม', 'หนองคาย',\n",
       "       'ชัยภูมิ', 'กาฬสินธุ์', 'นครนายก', 'ตาก', 'ระนอง', 'มหาสารคาม',\n",
       "       'แม่ฮ่องสอน', 'กาญจนบุรี', 'หนองบัวลำภู', 'มุกดาหาร', 'อุทัยธานี',\n",
       "       'ยะลา', 'นราธิวาส', 'อ่างทอง', 'สตูล'], dtype=object)"
      ]
     },
     "execution_count": 57,
     "metadata": {},
     "output_type": "execute_result"
    }
   ],
   "source": [
    "MRW_garageProfile_df[\"Province\"].unique()"
   ]
  },
  {
   "cell_type": "markdown",
   "metadata": {},
   "source": [
    "### MRW ProductSKU"
   ]
  },
  {
   "cell_type": "code",
   "execution_count": 9,
   "metadata": {},
   "outputs": [
    {
     "data": {
      "text/html": [
       "<div>\n",
       "<style scoped>\n",
       "    .dataframe tbody tr th:only-of-type {\n",
       "        vertical-align: middle;\n",
       "    }\n",
       "\n",
       "    .dataframe tbody tr th {\n",
       "        vertical-align: top;\n",
       "    }\n",
       "\n",
       "    .dataframe thead th {\n",
       "        text-align: right;\n",
       "    }\n",
       "</style>\n",
       "<table border=\"1\" class=\"dataframe\">\n",
       "  <thead>\n",
       "    <tr style=\"text-align: right;\">\n",
       "      <th></th>\n",
       "      <th>ProductSKU</th>\n",
       "      <th>Points</th>\n",
       "      <th>Volume (L)</th>\n",
       "    </tr>\n",
       "  </thead>\n",
       "  <tbody>\n",
       "    <tr>\n",
       "      <th>0</th>\n",
       "      <td>Mobil 1 Gold 4L - 6L</td>\n",
       "      <td>60</td>\n",
       "      <td>6</td>\n",
       "    </tr>\n",
       "    <tr>\n",
       "      <th>1</th>\n",
       "      <td>Silver - Large 4L</td>\n",
       "      <td>50</td>\n",
       "      <td>4</td>\n",
       "    </tr>\n",
       "    <tr>\n",
       "      <th>2</th>\n",
       "      <td>Gold - Large 4L</td>\n",
       "      <td>50</td>\n",
       "      <td>4</td>\n",
       "    </tr>\n",
       "    <tr>\n",
       "      <th>3</th>\n",
       "      <td>Mobil Super AIO - 7L</td>\n",
       "      <td>45</td>\n",
       "      <td>7</td>\n",
       "    </tr>\n",
       "    <tr>\n",
       "      <th>4</th>\n",
       "      <td>Mobil Super AIO 3L - 6L</td>\n",
       "      <td>40</td>\n",
       "      <td>5</td>\n",
       "    </tr>\n",
       "  </tbody>\n",
       "</table>\n",
       "</div>"
      ],
      "text/plain": [
       "                ProductSKU  Points  Volume (L)\n",
       "0     Mobil 1 Gold 4L - 6L      60           6\n",
       "1        Silver - Large 4L      50           4\n",
       "2          Gold - Large 4L      50           4\n",
       "3     Mobil Super AIO - 7L      45           7\n",
       "4  Mobil Super AIO 3L - 6L      40           5"
      ]
     },
     "execution_count": 9,
     "metadata": {},
     "output_type": "execute_result"
    }
   ],
   "source": [
    "MRW_productSKU_df.head()"
   ]
  },
  {
   "cell_type": "code",
   "execution_count": 10,
   "metadata": {},
   "outputs": [
    {
     "data": {
      "text/plain": [
       "<bound method NDFrame.describe of                     ProductSKU  Points  Volume (L)\n",
       "0         Mobil 1 Gold 4L - 6L      60           6\n",
       "1            Silver - Large 4L      50           4\n",
       "2              Gold - Large 4L      50           4\n",
       "3         Mobil Super AIO - 7L      45           7\n",
       "4      Mobil Super AIO 3L - 6L      40           5\n",
       "5     Charcoal - Large 4L - 5L      40           5\n",
       "6       Mobil Super FF 4L - 7L      35           6\n",
       "7       Mobil Delvac Modern 7L      20           7\n",
       "8         Blue - Large 4L - 5L      15           5\n",
       "9  Mobil_Delvac_Legend_6L_-_7L      10           7>"
      ]
     },
     "execution_count": 10,
     "metadata": {},
     "output_type": "execute_result"
    }
   ],
   "source": [
    "MRW_productSKU_df.describe"
   ]
  },
  {
   "cell_type": "markdown",
   "metadata": {},
   "source": [
    "### MER Point Transaction"
   ]
  },
  {
   "cell_type": "code",
   "execution_count": 17,
   "metadata": {},
   "outputs": [
    {
     "data": {
      "text/html": [
       "<div>\n",
       "<style scoped>\n",
       "    .dataframe tbody tr th:only-of-type {\n",
       "        vertical-align: middle;\n",
       "    }\n",
       "\n",
       "    .dataframe tbody tr th {\n",
       "        vertical-align: top;\n",
       "    }\n",
       "\n",
       "    .dataframe thead th {\n",
       "        text-align: right;\n",
       "    }\n",
       "</style>\n",
       "<table border=\"1\" class=\"dataframe\">\n",
       "  <thead>\n",
       "    <tr style=\"text-align: right;\">\n",
       "      <th></th>\n",
       "      <th>Invoicedate</th>\n",
       "      <th>Distributor</th>\n",
       "      <th>GroupId</th>\n",
       "      <th>Type</th>\n",
       "      <th>Provincename</th>\n",
       "      <th>MatNo</th>\n",
       "      <th>Material Name</th>\n",
       "      <th>New_Volume(L)</th>\n",
       "    </tr>\n",
       "  </thead>\n",
       "  <tbody>\n",
       "    <tr>\n",
       "      <th>0</th>\n",
       "      <td>6/9/2023</td>\n",
       "      <td>A</td>\n",
       "      <td>ERW_AMBP2020110207</td>\n",
       "      <td>Reseller</td>\n",
       "      <td>Chachoengsao</td>\n",
       "      <td>145577</td>\n",
       "      <td>M SUP Frict Fighter TBS 10W-30 4x7L/CAR</td>\n",
       "      <td>11676</td>\n",
       "    </tr>\n",
       "    <tr>\n",
       "      <th>1</th>\n",
       "      <td>20/12/2023</td>\n",
       "      <td>A</td>\n",
       "      <td>ERW_AMBP2020110207</td>\n",
       "      <td>Reseller</td>\n",
       "      <td>Chachoengsao</td>\n",
       "      <td>145577</td>\n",
       "      <td>M SUP Frict Fighter TBS 10W-30 4x7L/CAR</td>\n",
       "      <td>5768</td>\n",
       "    </tr>\n",
       "    <tr>\n",
       "      <th>2</th>\n",
       "      <td>11/8/2023</td>\n",
       "      <td>A</td>\n",
       "      <td>ERW_AMBP2020110207</td>\n",
       "      <td>Reseller</td>\n",
       "      <td>Chachoengsao</td>\n",
       "      <td>143160</td>\n",
       "      <td>MOBIL DELVAC SUPER1400 15W-40 4X6+1L/CAR</td>\n",
       "      <td>11088</td>\n",
       "    </tr>\n",
       "    <tr>\n",
       "      <th>3</th>\n",
       "      <td>10/3/2023</td>\n",
       "      <td>A</td>\n",
       "      <td>ERW_AMBP2020110291</td>\n",
       "      <td>Reseller</td>\n",
       "      <td>Nakhon Ratchasima</td>\n",
       "      <td>143160</td>\n",
       "      <td>MOBIL DELVAC SUPER 1400 15W-40 4X6+1/CAR</td>\n",
       "      <td>2912</td>\n",
       "    </tr>\n",
       "    <tr>\n",
       "      <th>4</th>\n",
       "      <td>10/3/2023</td>\n",
       "      <td>A</td>\n",
       "      <td>ERW_AMBP2020110291</td>\n",
       "      <td>Reseller</td>\n",
       "      <td>Nakhon Ratchasima</td>\n",
       "      <td>143160</td>\n",
       "      <td>MOBIL DELVAC SUPER1400 15W-40 4X6+1L/CAR</td>\n",
       "      <td>7168</td>\n",
       "    </tr>\n",
       "  </tbody>\n",
       "</table>\n",
       "</div>"
      ],
      "text/plain": [
       "  Invoicedate Distributor             GroupId      Type       Provincename  \\\n",
       "0    6/9/2023           A  ERW_AMBP2020110207  Reseller       Chachoengsao   \n",
       "1  20/12/2023           A  ERW_AMBP2020110207  Reseller       Chachoengsao   \n",
       "2   11/8/2023           A  ERW_AMBP2020110207  Reseller       Chachoengsao   \n",
       "3   10/3/2023           A  ERW_AMBP2020110291  Reseller  Nakhon Ratchasima   \n",
       "4   10/3/2023           A  ERW_AMBP2020110291  Reseller  Nakhon Ratchasima   \n",
       "\n",
       "    MatNo                             Material Name  New_Volume(L)  \n",
       "0  145577   M SUP Frict Fighter TBS 10W-30 4x7L/CAR          11676  \n",
       "1  145577   M SUP Frict Fighter TBS 10W-30 4x7L/CAR           5768  \n",
       "2  143160  MOBIL DELVAC SUPER1400 15W-40 4X6+1L/CAR          11088  \n",
       "3  143160  MOBIL DELVAC SUPER 1400 15W-40 4X6+1/CAR           2912  \n",
       "4  143160  MOBIL DELVAC SUPER1400 15W-40 4X6+1L/CAR           7168  "
      ]
     },
     "execution_count": 17,
     "metadata": {},
     "output_type": "execute_result"
    }
   ],
   "source": [
    "MER_pointTransaction_df.head()"
   ]
  },
  {
   "cell_type": "code",
   "execution_count": 18,
   "metadata": {},
   "outputs": [
    {
     "data": {
      "text/html": [
       "<div>\n",
       "<style scoped>\n",
       "    .dataframe tbody tr th:only-of-type {\n",
       "        vertical-align: middle;\n",
       "    }\n",
       "\n",
       "    .dataframe tbody tr th {\n",
       "        vertical-align: top;\n",
       "    }\n",
       "\n",
       "    .dataframe thead th {\n",
       "        text-align: right;\n",
       "    }\n",
       "</style>\n",
       "<table border=\"1\" class=\"dataframe\">\n",
       "  <thead>\n",
       "    <tr style=\"text-align: right;\">\n",
       "      <th></th>\n",
       "      <th>MatNo</th>\n",
       "      <th>New_Volume(L)</th>\n",
       "    </tr>\n",
       "  </thead>\n",
       "  <tbody>\n",
       "    <tr>\n",
       "      <th>count</th>\n",
       "      <td>9429.000000</td>\n",
       "      <td>9429.00000</td>\n",
       "    </tr>\n",
       "    <tr>\n",
       "      <th>mean</th>\n",
       "      <td>142928.619684</td>\n",
       "      <td>5218.51681</td>\n",
       "    </tr>\n",
       "    <tr>\n",
       "      <th>std</th>\n",
       "      <td>3481.354190</td>\n",
       "      <td>3530.00421</td>\n",
       "    </tr>\n",
       "    <tr>\n",
       "      <th>min</th>\n",
       "      <td>123150.000000</td>\n",
       "      <td>6.00000</td>\n",
       "    </tr>\n",
       "    <tr>\n",
       "      <th>25%</th>\n",
       "      <td>142931.000000</td>\n",
       "      <td>2240.00000</td>\n",
       "    </tr>\n",
       "    <tr>\n",
       "      <th>50%</th>\n",
       "      <td>143877.000000</td>\n",
       "      <td>4800.00000</td>\n",
       "    </tr>\n",
       "    <tr>\n",
       "      <th>75%</th>\n",
       "      <td>145498.000000</td>\n",
       "      <td>7720.00000</td>\n",
       "    </tr>\n",
       "    <tr>\n",
       "      <th>max</th>\n",
       "      <td>146130.000000</td>\n",
       "      <td>14000.00000</td>\n",
       "    </tr>\n",
       "  </tbody>\n",
       "</table>\n",
       "</div>"
      ],
      "text/plain": [
       "               MatNo  New_Volume(L)\n",
       "count    9429.000000     9429.00000\n",
       "mean   142928.619684     5218.51681\n",
       "std      3481.354190     3530.00421\n",
       "min    123150.000000        6.00000\n",
       "25%    142931.000000     2240.00000\n",
       "50%    143877.000000     4800.00000\n",
       "75%    145498.000000     7720.00000\n",
       "max    146130.000000    14000.00000"
      ]
     },
     "execution_count": 18,
     "metadata": {},
     "output_type": "execute_result"
    }
   ],
   "source": [
    "MER_pointTransaction_df.describe()"
   ]
  },
  {
   "cell_type": "markdown",
   "metadata": {},
   "source": [
    "### MER Point Per Litre"
   ]
  },
  {
   "cell_type": "code",
   "execution_count": 13,
   "metadata": {},
   "outputs": [
    {
     "data": {
      "text/html": [
       "<div>\n",
       "<style scoped>\n",
       "    .dataframe tbody tr th:only-of-type {\n",
       "        vertical-align: middle;\n",
       "    }\n",
       "\n",
       "    .dataframe tbody tr th {\n",
       "        vertical-align: top;\n",
       "    }\n",
       "\n",
       "    .dataframe thead th {\n",
       "        text-align: right;\n",
       "    }\n",
       "</style>\n",
       "<table border=\"1\" class=\"dataframe\">\n",
       "  <thead>\n",
       "    <tr style=\"text-align: right;\">\n",
       "      <th></th>\n",
       "      <th>MatNo</th>\n",
       "      <th>Points</th>\n",
       "    </tr>\n",
       "  </thead>\n",
       "  <tbody>\n",
       "    <tr>\n",
       "      <th>0</th>\n",
       "      <td>144673</td>\n",
       "      <td>10</td>\n",
       "    </tr>\n",
       "    <tr>\n",
       "      <th>1</th>\n",
       "      <td>140521</td>\n",
       "      <td>10</td>\n",
       "    </tr>\n",
       "    <tr>\n",
       "      <th>2</th>\n",
       "      <td>144473</td>\n",
       "      <td>10</td>\n",
       "    </tr>\n",
       "    <tr>\n",
       "      <th>3</th>\n",
       "      <td>145832</td>\n",
       "      <td>10</td>\n",
       "    </tr>\n",
       "    <tr>\n",
       "      <th>4</th>\n",
       "      <td>140418</td>\n",
       "      <td>10</td>\n",
       "    </tr>\n",
       "  </tbody>\n",
       "</table>\n",
       "</div>"
      ],
      "text/plain": [
       "    MatNo  Points\n",
       "0  144673      10\n",
       "1  140521      10\n",
       "2  144473      10\n",
       "3  145832      10\n",
       "4  140418      10"
      ]
     },
     "execution_count": 13,
     "metadata": {},
     "output_type": "execute_result"
    }
   ],
   "source": [
    "MER_pointPerLitre_df.head()"
   ]
  },
  {
   "cell_type": "code",
   "execution_count": 14,
   "metadata": {},
   "outputs": [
    {
     "data": {
      "text/html": [
       "<div>\n",
       "<style scoped>\n",
       "    .dataframe tbody tr th:only-of-type {\n",
       "        vertical-align: middle;\n",
       "    }\n",
       "\n",
       "    .dataframe tbody tr th {\n",
       "        vertical-align: top;\n",
       "    }\n",
       "\n",
       "    .dataframe thead th {\n",
       "        text-align: right;\n",
       "    }\n",
       "</style>\n",
       "<table border=\"1\" class=\"dataframe\">\n",
       "  <thead>\n",
       "    <tr style=\"text-align: right;\">\n",
       "      <th></th>\n",
       "      <th>MatNo</th>\n",
       "      <th>Points</th>\n",
       "    </tr>\n",
       "  </thead>\n",
       "  <tbody>\n",
       "    <tr>\n",
       "      <th>count</th>\n",
       "      <td>145.000000</td>\n",
       "      <td>145.000000</td>\n",
       "    </tr>\n",
       "    <tr>\n",
       "      <th>mean</th>\n",
       "      <td>141577.537931</td>\n",
       "      <td>3.668966</td>\n",
       "    </tr>\n",
       "    <tr>\n",
       "      <th>std</th>\n",
       "      <td>4500.774899</td>\n",
       "      <td>3.572766</td>\n",
       "    </tr>\n",
       "    <tr>\n",
       "      <th>min</th>\n",
       "      <td>123150.000000</td>\n",
       "      <td>1.000000</td>\n",
       "    </tr>\n",
       "    <tr>\n",
       "      <th>25%</th>\n",
       "      <td>140043.000000</td>\n",
       "      <td>1.000000</td>\n",
       "    </tr>\n",
       "    <tr>\n",
       "      <th>50%</th>\n",
       "      <td>143110.000000</td>\n",
       "      <td>2.000000</td>\n",
       "    </tr>\n",
       "    <tr>\n",
       "      <th>75%</th>\n",
       "      <td>145444.000000</td>\n",
       "      <td>4.000000</td>\n",
       "    </tr>\n",
       "    <tr>\n",
       "      <th>max</th>\n",
       "      <td>146130.000000</td>\n",
       "      <td>10.000000</td>\n",
       "    </tr>\n",
       "  </tbody>\n",
       "</table>\n",
       "</div>"
      ],
      "text/plain": [
       "               MatNo      Points\n",
       "count     145.000000  145.000000\n",
       "mean   141577.537931    3.668966\n",
       "std      4500.774899    3.572766\n",
       "min    123150.000000    1.000000\n",
       "25%    140043.000000    1.000000\n",
       "50%    143110.000000    2.000000\n",
       "75%    145444.000000    4.000000\n",
       "max    146130.000000   10.000000"
      ]
     },
     "execution_count": 14,
     "metadata": {},
     "output_type": "execute_result"
    }
   ],
   "source": [
    "MER_pointPerLitre_df.describe()"
   ]
  },
  {
   "cell_type": "markdown",
   "metadata": {},
   "source": [
    "## Data Cleansing"
   ]
  },
  {
   "cell_type": "markdown",
   "metadata": {},
   "source": [
    "### MRW Point Transaction"
   ]
  },
  {
   "cell_type": "code",
   "execution_count": 15,
   "metadata": {},
   "outputs": [],
   "source": [
    "# This one is nice!"
   ]
  },
  {
   "cell_type": "markdown",
   "metadata": {},
   "source": [
    "### MRW Garage Profile"
   ]
  },
  {
   "cell_type": "code",
   "execution_count": null,
   "metadata": {},
   "outputs": [],
   "source": [
    "# Postcodes are missing, but it doesn't matter, right?"
   ]
  },
  {
   "cell_type": "markdown",
   "metadata": {},
   "source": [
    "## Data Visualization"
   ]
  },
  {
   "cell_type": "code",
   "execution_count": 54,
   "metadata": {},
   "outputs": [
    {
     "data": {
      "text/plain": [
       "([0, 1, 2, 3, 4, 5, 6, 7, 8],\n",
       " [Text(0, 0, 'Blue Large'),\n",
       "  Text(1, 0, 'Gold Large'),\n",
       "  Text(2, 0, 'Mobil 1 Gold'),\n",
       "  Text(3, 0, 'Mobil Delvac Legend'),\n",
       "  Text(4, 0, 'Mobil Delvac Modern'),\n",
       "  Text(5, 0, 'Mobil Super AIO'),\n",
       "  Text(6, 0, 'Mobil Super AIO - Charcoal'),\n",
       "  Text(7, 0, 'Mobil Super FF'),\n",
       "  Text(8, 0, 'Silver Large')])"
      ]
     },
     "execution_count": 54,
     "metadata": {},
     "output_type": "execute_result"
    },
    {
     "data": {
      "image/png": "[encoded data removed]",
      "text/plain": [
       "<Figure size 640x480 with 1 Axes>"
      ]
     },
     "metadata": {},
     "output_type": "display_data"
    }
   ],
   "source": [
    "productNames_df = MRW_pointTransaction_df.groupby(MRW_pointTransaction_df[\"ProductName\"].tolist(), as_index=False).size()\n",
    "amount = productNames_df[\"size\"]\n",
    "productNames = productNames_df[\"index\"]\n",
    "plt.bar(productNames, amount)\n",
    "plt.title(\"Order amount of each product (MRW)\")\n",
    "plt.xlabel(\"ProductNames\")\n",
    "plt.ylabel(\"Amount\")\n",
    "plt.xticks(rotation=90)"
   ]
  },
  {
   "cell_type": "code",
   "execution_count": 55,
   "metadata": {},
   "outputs": [
    {
     "data": {
      "text/plain": [
       "Text(0, 0.5, 'Amount')"
      ]
     },
     "execution_count": 55,
     "metadata": {},
     "output_type": "execute_result"
    },
    {
     "data": {
      "image/png": "[encoded data removed]",
      "text/plain": [
       "<Figure size 640x480 with 1 Axes>"
      ]
     },
     "metadata": {},
     "output_type": "display_data"
    }
   ],
   "source": [
    "distributors_df = MRW_pointTransaction_df.groupby(MRW_pointTransaction_df[\"Distributor\"].tolist(), as_index=False).size()\n",
    "amount = distributors_df[\"size\"]\n",
    "distributors = distributors_df[\"index\"]\n",
    "plt.bar(distributors, amount)\n",
    "plt.title(\"Amount of products distributed by each distributor (MRW)\")\n",
    "plt.xlabel(\"Distributors\")\n",
    "plt.ylabel(\"Amount\")"
   ]
  },
  {
   "cell_type": "code",
   "execution_count": 65,
   "metadata": {},
   "outputs": [
    {
     "data": {
      "text/html": [
       "<div>\n",
       "<style scoped>\n",
       "    .dataframe tbody tr th:only-of-type {\n",
       "        vertical-align: middle;\n",
       "    }\n",
       "\n",
       "    .dataframe tbody tr th {\n",
       "        vertical-align: top;\n",
       "    }\n",
       "\n",
       "    .dataframe thead th {\n",
       "        text-align: right;\n",
       "    }\n",
       "</style>\n",
       "<table border=\"1\" class=\"dataframe\">\n",
       "  <thead>\n",
       "    <tr style=\"text-align: right;\">\n",
       "      <th></th>\n",
       "      <th>index</th>\n",
       "      <th>size</th>\n",
       "    </tr>\n",
       "  </thead>\n",
       "  <tbody>\n",
       "    <tr>\n",
       "      <th>1</th>\n",
       "      <td>กรุงเทพมหานคร</td>\n",
       "      <td>668</td>\n",
       "    </tr>\n",
       "    <tr>\n",
       "      <th>8</th>\n",
       "      <td>ชลบุรี</td>\n",
       "      <td>252</td>\n",
       "    </tr>\n",
       "    <tr>\n",
       "      <th>71</th>\n",
       "      <td>เชียงใหม่</td>\n",
       "      <td>226</td>\n",
       "    </tr>\n",
       "    <tr>\n",
       "      <th>52</th>\n",
       "      <td>สมุทรปราการ</td>\n",
       "      <td>221</td>\n",
       "    </tr>\n",
       "    <tr>\n",
       "      <th>26</th>\n",
       "      <td>ปทุมธานี</td>\n",
       "      <td>133</td>\n",
       "    </tr>\n",
       "    <tr>\n",
       "      <th>70</th>\n",
       "      <td>เชียงราย</td>\n",
       "      <td>132</td>\n",
       "    </tr>\n",
       "    <tr>\n",
       "      <th>42</th>\n",
       "      <td>ระยอง</td>\n",
       "      <td>129</td>\n",
       "    </tr>\n",
       "    <tr>\n",
       "      <th>21</th>\n",
       "      <td>นนทบุรี</td>\n",
       "      <td>113</td>\n",
       "    </tr>\n",
       "    <tr>\n",
       "      <th>16</th>\n",
       "      <td>นครปฐม</td>\n",
       "      <td>109</td>\n",
       "    </tr>\n",
       "    <tr>\n",
       "      <th>18</th>\n",
       "      <td>นครราชสีมา</td>\n",
       "      <td>100</td>\n",
       "    </tr>\n",
       "  </tbody>\n",
       "</table>\n",
       "</div>"
      ],
      "text/plain": [
       "            index  size\n",
       "1   กรุงเทพมหานคร   668\n",
       "8          ชลบุรี   252\n",
       "71      เชียงใหม่   226\n",
       "52    สมุทรปราการ   221\n",
       "26       ปทุมธานี   133\n",
       "70       เชียงราย   132\n",
       "42          ระยอง   129\n",
       "21        นนทบุรี   113\n",
       "16         นครปฐม   109\n",
       "18     นครราชสีมา   100"
      ]
     },
     "execution_count": 65,
     "metadata": {},
     "output_type": "execute_result"
    }
   ],
   "source": [
    "provinces_df = MRW_garageProfile_df.groupby(MRW_garageProfile_df[\"Province\"].tolist(), as_index=False).size()\n",
    "provinces_df.sort_values(by=\"size\", ascending=False).iloc[:10]\n",
    "# amount = provinces_df[\"size\"]\n",
    "# provinces = provinces_df[\"index\"]\n",
    "# plt.bar(provinces, amount)\n",
    "# plt.title(\"Top 10 provinces\")\n",
    "# plt.xlabel(\"Provinces\")\n",
    "# plt.ylabel(\"Amount\")\n",
    "# plt.xticks(rotation=90)"
   ]
  }
 ],
 "metadata": {
  "kernelspec": {
   "display_name": "base",
   "language": "python",
   "name": "python3"
  },
  "language_info": {
   "codemirror_mode": {
    "name": "ipython",
    "version": 3
   },
   "file_extension": ".py",
   "mimetype": "text/x-python",
   "name": "python",
   "nbconvert_exporter": "python",
   "pygments_lexer": "ipython3",
   "version": "3.11.7"
  }
 },
 "nbformat": 4,
 "nbformat_minor": 2
}
